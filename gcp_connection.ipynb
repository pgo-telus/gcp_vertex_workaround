{
 "cells": [
  {
   "cell_type": "markdown",
   "id": "c6243d39-dd17-4c2b-ab5f-01cff12d63d9",
   "metadata": {},
   "source": [
    "## Big Query access from jupyterLab"
   ]
  },
  {
   "cell_type": "markdown",
   "id": "3ea8535b-81ef-448a-98f8-f8eceaa9fd70",
   "metadata": {},
   "source": [
    "### 1. gcloud auth\n",
    "\n",
    "This first step needs to be executed outside this notebook. Open a terminal and enter\n",
    "\n",
    "`gcloud auth login --no-launch-browser`\n",
    "\n",
    "Then navigate to the displayed https link, login and copy token. FIinally, paste the token in the terminal. "
   ]
  },
  {
   "cell_type": "markdown",
   "id": "ca1902a4-8464-4ac4-8fe2-dadb594db5df",
   "metadata": {},
   "source": [
    "### 2. CLoud storage client"
   ]
  },
  {
   "cell_type": "markdown",
   "id": "6036bd60-93da-4a9e-bd0e-0d59dad0fa53",
   "metadata": {},
   "source": [
    "#### 2.a Display information"
   ]
  },
  {
   "cell_type": "code",
   "execution_count": null,
   "id": "420dd527-1479-48bc-b54c-3d859488a20f",
   "metadata": {
    "jupyter": {
     "outputs_hidden": true
    },
    "tags": []
   },
   "outputs": [],
   "source": [
    "import os\n",
    "import re\n",
    "token = os.popen('gcloud auth print-access-token').read()\n",
    "token = re.sub(f'\\n$', '', token)\n",
    "token"
   ]
  },
  {
   "cell_type": "code",
   "execution_count": null,
   "id": "8001dbfc-76bb-42b5-beda-fdba7d9a7262",
   "metadata": {},
   "outputs": [],
   "source": [
    "# Display your token\n",
    "token = !gcloud auth print-access-token\n",
    "print(f' Your token is {token[0]}\\n')\n",
    "\n",
    "# List projects\n",
    "l_projects = !gcloud projects list\n",
    "print(f'The list of project is')\n",
    "l_projects"
   ]
  },
  {
   "cell_type": "markdown",
   "id": "79f2080a-7760-45a6-adb1-b85597375cf9",
   "metadata": {},
   "source": [
    "#### 2.b Set your project\n",
    "\n",
    "In this step you have to create a file conf/local/project_config.yml . The file should have 1 line \n",
    "```\n",
    "gcp-project-name: {your project name}\n",
    "\n",
    "```"
   ]
  },
  {
   "cell_type": "code",
   "execution_count": null,
   "id": "67a4ef8b-5b5f-4968-83bf-9e1eefc1582d",
   "metadata": {
    "tags": []
   },
   "outputs": [],
   "source": [
    "import os\n",
    "from pathlib import Path\n",
    "from yaml import safe_load\n",
    "\n",
    "d_project_config = safe_load(Path(os.getcwd()).open())\n",
    "\n",
    "# Set you project\n",
    "os.system(f\"gcloud config set project {d_project_config['gcp-project-name']}\")"
   ]
  },
  {
   "cell_type": "markdown",
   "id": "87c11f5f-7f84-4328-ae91-b29069c48281",
   "metadata": {},
   "source": [
    "### 3. Connect to Big query"
   ]
  },
  {
   "cell_type": "code",
   "execution_count": null,
   "id": "d0c85622-0272-4d15-b190-4150a5462d67",
   "metadata": {
    "tags": []
   },
   "outputs": [],
   "source": [
    "import google.oauth2.credentials\n",
    "credentials = google.oauth2.credentials.Credentials(token[0])\n",
    "\n",
    "from google.cloud import bigquery\n",
    "client = bigquery.Client(credentials=credentials, project=d_project_config['gcp-project-name'])"
   ]
  }
 ],
 "metadata": {
  "kernelspec": {
   "display_name": "Python 3 (ipykernel)",
   "language": "python",
   "name": "python3"
  },
  "language_info": {
   "codemirror_mode": {
    "name": "ipython",
    "version": 3
   },
   "file_extension": ".py",
   "mimetype": "text/x-python",
   "name": "python",
   "nbconvert_exporter": "python",
   "pygments_lexer": "ipython3",
   "version": "3.7.12"
  }
 },
 "nbformat": 4,
 "nbformat_minor": 5
}
